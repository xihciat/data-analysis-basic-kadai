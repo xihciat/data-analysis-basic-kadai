{
  "cells": [
    {
      "cell_type": "code",
      "execution_count": 4,
      "metadata": {
        "colab": {
          "base_uri": "https://localhost:8080/"
        },
        "id": "9LyNvHpM5Ju4",
        "outputId": "4d623624-e62e-41f6-9547-c8ac12ab26fa"
      },
      "outputs": [
        {
          "data": {
            "text/plain": [
              "0.9629629629629629"
            ]
          },
          "execution_count": 4,
          "metadata": {},
          "output_type": "execute_result"
        }
      ],
      "source": [
        "from sklearn.datasets import load_wine\n",
        "dataset = load_wine()\n",
        "\n",
        "from sklearn.model_selection import train_test_split\n",
        "X = dataset.data\n",
        "y = dataset.target\n",
        "X_train, X_test, y_train, y_test = train_test_split(X, y, test_size=0.3, random_state=5)\n",
        "\n",
        "from sklearn.ensemble import RandomForestClassifier\n",
        "model= RandomForestClassifier(random_state=3)\n",
        "model.fit(X_train, y_train)\n",
        "y_pred = model.predict(X_test)\n",
        "\n",
        "from sklearn.metrics import accuracy_score\n",
        "accuracy_score(y_pred, y_test)\n"
      ]
    }
  ],
  "metadata": {
    "colab": {
      "provenance": []
    },
    "kernelspec": {
      "display_name": "Python 3",
      "name": "python3"
    },
    "language_info": {
      "name": "python",
      "version": "3.11.8"
    }
  },
  "nbformat": 4,
  "nbformat_minor": 0
}
